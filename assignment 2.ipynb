{
 "cells": [
  {
   "cell_type": "code",
   "execution_count": 1,
   "metadata": {},
   "outputs": [
    {
     "name": "stdout",
     "output_type": "stream",
     "text": [
      "[[1, 2], [1, 2, 3], [1, 2, 4, 5]]\n"
     ]
    }
   ],
   "source": [
    "# python program to remove empty list from list\n",
    "list=[[1,2],[],[1,2,3],[],[],[1,2,4,5]]\n",
    "print([x for x in list if x])"
   ]
  },
  {
   "cell_type": "code",
   "execution_count": 8,
   "metadata": {},
   "outputs": [
    {
     "name": "stdout",
     "output_type": "stream",
     "text": [
      "['hello', 'hello', 'how', 'are', 'doing', 'today']\n",
      "the dulicate free sentence is : ['hello', 'how', 'are', 'doing', 'today']\n"
     ]
    }
   ],
   "source": [
    "#python program to remove all duplicate words from a sentence\n",
    "str1=\"hello hello how are doing today\"\n",
    "str2=str1.split()\n",
    "print(str2)\n",
    "list1=[]\n",
    "for i in str2:\n",
    "    if(i not in list1):\n",
    "        list1.append(i)\n",
    "print(\"the dulicate free sentence is :\",list1)      "
   ]
  },
  {
   "cell_type": "code",
   "execution_count": 2,
   "metadata": {},
   "outputs": [
    {
     "name": "stdout",
     "output_type": "stream",
     "text": [
      "enter the string:pythonprogramming\n",
      "enter the character:o\n",
      "the total number of times o has occured= 2\n"
     ]
    }
   ],
   "source": [
    "#program to find all occurances of a character in the given string\n",
    "\n",
    "string=input(\"enter the string:\")\n",
    "char=input(\"enter the character:\")\n",
    "count=0\n",
    "for i in range(len(string)):\n",
    "    if(string[i]==char):\n",
    "        count=count+1\n",
    "print(\"the total number of times\",char,\"has occured=\",count)        \n",
    "    "
   ]
  },
  {
   "cell_type": "code",
   "execution_count": null,
   "metadata": {},
   "outputs": [],
   "source": []
  },
  {
   "cell_type": "code",
   "execution_count": null,
   "metadata": {},
   "outputs": [],
   "source": []
  }
 ],
 "metadata": {
  "kernelspec": {
   "display_name": "Python 3",
   "language": "python",
   "name": "python3"
  },
  "language_info": {
   "codemirror_mode": {
    "name": "ipython",
    "version": 3
   },
   "file_extension": ".py",
   "mimetype": "text/x-python",
   "name": "python",
   "nbconvert_exporter": "python",
   "pygments_lexer": "ipython3",
   "version": "3.8.5"
  }
 },
 "nbformat": 4,
 "nbformat_minor": 4
}
